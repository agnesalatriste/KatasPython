{
 "cells": [
  {
   "cell_type": "markdown",
   "metadata": {},
   "source": [
    "# Kata 4"
   ]
  },
  {
   "cell_type": "markdown",
   "metadata": {},
   "source": [
    "## Ejercicio 1"
   ]
  },
  {
   "cell_type": "code",
   "execution_count": null,
   "metadata": {},
   "outputs": [],
   "source": [
    "text = \"\"\"Interesting facts about the Moon. The Moon is Earth's only satellite. There are several interesting facts about the Moon and how it affects life here on Earth. \n",
    "On average, the Moon moves 4cm away from the Earth every year. This yearly drift is not significant enough to cause immediate effects on Earth. The highest daylight temperature of the Moon is 127 C.\"\"\"\n",
    "sentence = text.split(\".\")\n",
    "key = [\"satellite\", \"average\", \"temperature\"]\n",
    "for information in sentence:\n",
    "    for word in key:\n",
    "        if word in information:\n",
    "            print(information.replace(\"C\", \"Celsius\"))\n",
    "            break"
   ]
  },
  {
   "cell_type": "markdown",
   "metadata": {},
   "source": [
    "## Ejercicio 2"
   ]
  },
  {
   "cell_type": "code",
   "execution_count": 10,
   "metadata": {},
   "outputs": [
    {
     "name": "stdout",
     "output_type": "stream",
     "text": [
      "Gravity Facts About Moon\n",
      "---------------------------------------- \n",
      "Planet's names: Earth \n",
      "Gravity's Moon: 1.62m/s^2 \n",
      "\n",
      "Gravity Facts About Ganímedes \n",
      "---------------------------------------- \n",
      "Planet's names: Marte \n",
      "Gravity's Ganímedes: 1.4300000000000002m/s^2\n"
     ]
    }
   ],
   "source": [
    "name = \"Moon\"\n",
    "gravity = 0.00162 \n",
    "planet = \"Earth\"\n",
    "title = (\"gravity facts about %s\"%name).title()\n",
    "multilinea =f\"\\n{'-'*40} \\nPlanet's names: {planet} \\nGravity's {name}: {round(gravity*1000, 2)}m/s^2 \\n\"\n",
    "text = title + multilinea\n",
    "print(text)\n",
    "\n",
    "\n",
    "name = \"Ganímedes\"\n",
    "gravity = 0.00143 \n",
    "planet = \"Marte\"\n",
    "new= \"Gravity Facts About {name} \\n---------------------------------------- \\nPlanet's names: {planet} \\nGravity's {name}: {gravity}m/s^2\"\n",
    "print(new.format(name=name, planet=planet, gravity=gravity*1000))\n"
   ]
  }
 ],
 "metadata": {
  "interpreter": {
   "hash": "56bae1750278024b17ff5c0f6f77c2c2d12787032773d835a593404db3a69ec0"
  },
  "kernelspec": {
   "display_name": "Python 3.10.2 64-bit",
   "language": "python",
   "name": "python3"
  },
  "language_info": {
   "codemirror_mode": {
    "name": "ipython",
    "version": 3
   },
   "file_extension": ".py",
   "mimetype": "text/x-python",
   "name": "python",
   "nbconvert_exporter": "python",
   "pygments_lexer": "ipython3",
   "version": "3.10.2"
  },
  "orig_nbformat": 4
 },
 "nbformat": 4,
 "nbformat_minor": 2
}
