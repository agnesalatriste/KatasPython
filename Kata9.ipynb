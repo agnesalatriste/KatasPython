{
 "cells": [
  {
   "cell_type": "markdown",
   "metadata": {},
   "source": [
    "# Kata 9"
   ]
  },
  {
   "cell_type": "markdown",
   "metadata": {},
   "source": [
    "## Ejercicio 1"
   ]
  },
  {
   "cell_type": "code",
   "execution_count": null,
   "metadata": {},
   "outputs": [],
   "source": [
    "def combustible_lecturas(c1,c2,c3):\n",
    "    promedio = (c1+c2+c3)/3\n",
    "    return f\"\"\"Los datos ingresados son:{c1,c2,c3} \\ny el promedio es: {promedio}\"\"\"\n",
    "print(combustible_lecturas(0,0,0))\n",
    "\n",
    "def promedio(c1,c2,c3):\n",
    "    total = (c1+c2+c3)/3\n",
    "    return total\n",
    "\n",
    "def combustible_lecturas(c1,c2,c3):\n",
    "    return f\"\"\"Los datos ingresados son:{c1,c2,c3} \\ny el promedio es {promedio(c1,c2,c3)}\"\"\"\n",
    "print(combustible_lecturas(30,70,35))"
   ]
  },
  {
   "cell_type": "markdown",
   "metadata": {},
   "source": [
    "## Ejercicio 2"
   ]
  },
  {
   "cell_type": "code",
   "execution_count": 44,
   "metadata": {},
   "outputs": [
    {
     "name": "stdout",
     "output_type": "stream",
     "text": [
      "INFORME DEL COHETE \n",
      "---------------------------------------- \n",
      "Hora de prelanzamiento: 12\n",
      "Tiempo de vuelo: 12 horas\n",
      "Destino: marte\n",
      "Nivel de tanque externo: 500\n",
      "Nivel de tanque interno: 800\n",
      "\n",
      "INFORME DEL COHETE \n",
      "---------------------------------------- \n",
      "Hora de prelanzamiento: 12\n",
      "Tiempo de vuelo: 29 horas\n",
      "Destino: marte\n",
      "Nivel total de tanques: 1300\n",
      "\n",
      "INFORME DEL COHETE \n",
      "---------------------------------------- \n",
      "Hora de prelanzamiento: 12\n",
      "Tiempo de vuelo: 29 horas\n",
      "Destino: marte\n",
      "Nivel total de tanques: 1300\n",
      " Desglose de los tanques:\n",
      " {'Externo': 500, 'Interno': 800}\n"
     ]
    }
   ],
   "source": [
    "def reporte(hora_prelanzamiento,tiempoVuelo,destino,tanqueE,tanqueI):\n",
    "    return f\"\"\"INFORME DEL COHETE \\n{'-'*40} \\nHora de prelanzamiento: {hora_prelanzamiento}\\nTiempo de vuelo: {tiempoVuelo} horas\\nDestino: {destino}\\nNivel de tanque externo: {tanqueE}\\nNivel de tanque interno: {tanqueI}\"\"\"\n",
    "print(reporte(12,12,'marte',500,800))\n",
    "\n",
    "def reporte(hora_prelanzamiento,destino,*tiempoVuelo,**tanques):\n",
    "    return f\"\"\"\\nINFORME DEL COHETE \\n{'-'*40} \\nHora de prelanzamiento: {hora_prelanzamiento}\\nTiempo de vuelo: {sum(tiempoVuelo)} horas\\nDestino: {destino}\\nNivel total de tanques: {sum(tanques.values())}\"\"\"\n",
    "print(reporte(12,'marte',14,15,i=500,o=800))\n",
    "\n",
    "def reporte(hora_prelanzamiento,destino,*tiempoVuelo,**tanques):\n",
    "    return f\"\"\"\\nINFORME DEL COHETE \\n{'-'*40} \\nHora de prelanzamiento: {hora_prelanzamiento}\\nTiempo de vuelo: {sum(tiempoVuelo)} horas\\nDestino: {destino}\\nNivel total de tanques: {sum(tanques.values())}\\n Desglose de los tanques:\\n {tanques}\"\"\"\n",
    "print(reporte(12,'marte',14,15,Externo=500,Interno=800))"
   ]
  }
 ],
 "metadata": {
  "interpreter": {
   "hash": "56bae1750278024b17ff5c0f6f77c2c2d12787032773d835a593404db3a69ec0"
  },
  "kernelspec": {
   "display_name": "Python 3.10.2 64-bit",
   "language": "python",
   "name": "python3"
  },
  "language_info": {
   "codemirror_mode": {
    "name": "ipython",
    "version": 3
   },
   "file_extension": ".py",
   "mimetype": "text/x-python",
   "name": "python",
   "nbconvert_exporter": "python",
   "pygments_lexer": "ipython3",
   "version": "3.10.2"
  },
  "orig_nbformat": 4
 },
 "nbformat": 4,
 "nbformat_minor": 2
}
