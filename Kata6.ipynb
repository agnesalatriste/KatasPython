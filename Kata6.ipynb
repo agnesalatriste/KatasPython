{
 "cells": [
  {
   "cell_type": "markdown",
   "metadata": {},
   "source": [
    "# Kata 6"
   ]
  },
  {
   "cell_type": "markdown",
   "metadata": {},
   "source": [
    "## Ejercicio uno"
   ]
  },
  {
   "cell_type": "code",
   "execution_count": 18,
   "metadata": {},
   "outputs": [
    {
     "name": "stdout",
     "output_type": "stream",
     "text": [
      "El número de planetas es:  8 . Estos son:  ['Mercurio', 'Venus', 'Tierra', 'Marte', 'Jupiter', 'Saturno', 'Urano', 'Neptuno']\n",
      "El número de planetas actual es:  9 . El ultimo planeta es:  Pluton\n"
     ]
    }
   ],
   "source": [
    "planetas = ['Mercurio', 'Venus', 'Tierra', 'Marte', 'Jupiter', 'Saturno', 'Urano', 'Neptuno']\n",
    "print('El número de planetas es: ', len(planetas), '. Estos son: ', planetas)\n",
    "planetas.append('Pluton')\n",
    "print('El número de planetas actual es: ', len(planetas), '. El ultimo planeta es: ', planetas[-1])"
   ]
  },
  {
   "cell_type": "markdown",
   "metadata": {},
   "source": [
    "## Ejercicio dos"
   ]
  },
  {
   "cell_type": "code",
   "execution_count": 22,
   "metadata": {},
   "outputs": [
    {
     "name": "stdout",
     "output_type": "stream",
     "text": [
      "Los planetas más cercanos al sol que jupiter , son: ['Mercurio', 'Venus', 'Tierra', 'Marte']\n",
      "Los planetas más alejados del sol que jupiter , son: ['Saturno', 'Urano', 'Neptuno']\n"
     ]
    }
   ],
   "source": [
    "planetas = ['Mercurio', 'Venus', 'Tierra', 'Marte', 'Jupiter', 'Saturno', 'Urano', 'Neptuno']\n",
    "planeta = input('Introduzca por favor el nombre del planeta')\n",
    "dato =planeta.title()\n",
    "indice = planetas.index(dato)\n",
    "print('Los planetas más cercanos al sol que',planeta, ', son:', planetas[0:indice])\n",
    "print('Los planetas más alejados del sol que',planeta,  ', son:', planetas[indice+1:])"
   ]
  }
 ],
 "metadata": {
  "interpreter": {
   "hash": "56bae1750278024b17ff5c0f6f77c2c2d12787032773d835a593404db3a69ec0"
  },
  "kernelspec": {
   "display_name": "Python 3.10.2 64-bit",
   "language": "python",
   "name": "python3"
  },
  "language_info": {
   "codemirror_mode": {
    "name": "ipython",
    "version": 3
   },
   "file_extension": ".py",
   "mimetype": "text/x-python",
   "name": "python",
   "nbconvert_exporter": "python",
   "pygments_lexer": "ipython3",
   "version": "3.10.2"
  },
  "orig_nbformat": 4
 },
 "nbformat": 4,
 "nbformat_minor": 2
}
