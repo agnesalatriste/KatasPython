{
 "cells": [
  {
   "cell_type": "markdown",
   "metadata": {},
   "source": [
    "# Kata 1"
   ]
  },
  {
   "cell_type": "markdown",
   "metadata": {},
   "source": [
    "## Fecha del barco"
   ]
  },
  {
   "cell_type": "code",
   "execution_count": null,
   "metadata": {},
   "outputs": [],
   "source": [
    "from datetime import date\n",
    "\n",
    "fecha = date.today()\n",
    "print(\"El día de hoy es: \"+ str(fecha))\n"
   ]
  },
  {
   "cell_type": "markdown",
   "metadata": {},
   "source": [
    "# Convertidor de unidades "
   ]
  },
  {
   "cell_type": "code",
   "execution_count": 2,
   "metadata": {},
   "outputs": [
    {
     "name": "stdout",
     "output_type": "stream",
     "text": [
      "Bienvenido al convertidor de unidades del barco, por favor ingrese 1 si quiere convertir de parsec a años luz, y 2 si quiere convertir años luz a parsec\n"
     ]
    }
   ],
   "source": [
    "print(\"Bienvenido al convertidor de unidades del barco, por favor ingrese 1 si quiere convertir de parsec a años luz, y 2 si quiere convertir años luz a parsec\")\n",
    "opcion = input(\"opcion\")\n",
    "if int(opcion)==1:\n",
    "    print(\"Ha seleccionado 'de parsec a años luz'\")\n",
    "    parsec = input(\"Ingrese los parsec\")\n",
    "    aluz = float(parsec)*3.26156\n",
    "    print(str(parsec) + \" parsec, son \" + str(aluz) + \" años luz\")\n",
    "elif int(opcion)==2:\n",
    "    print(\"Ha seleccionado 'de años luz a parsec'\")\n",
    "    anosluz = input(\"Ingrese los años luz\")\n",
    "    parsec1 = float(anosluz)/3.26156\n",
    "    print(str(anosluz) + \" años luz, son \" + str(parsec1) + \" parsec\")\n"
   ]
  }
 ],
 "metadata": {
  "interpreter": {
   "hash": "56bae1750278024b17ff5c0f6f77c2c2d12787032773d835a593404db3a69ec0"
  },
  "kernelspec": {
   "display_name": "Python 3.10.2 64-bit",
   "name": "python3"
  },
  "language_info": {
   "codemirror_mode": {
    "name": "ipython",
    "version": 3
   },
   "file_extension": ".py",
   "mimetype": "text/x-python",
   "name": "python",
   "nbconvert_exporter": "python",
   "pygments_lexer": "ipython3",
   "version": "3.10.2"
  },
  "orig_nbformat": 4
 },
 "nbformat": 4,
 "nbformat_minor": 2
}
