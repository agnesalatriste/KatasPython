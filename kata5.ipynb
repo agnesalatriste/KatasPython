{
 "cells": [
  {
   "cell_type": "markdown",
   "metadata": {},
   "source": [
    "# Kata 5"
   ]
  },
  {
   "cell_type": "markdown",
   "metadata": {},
   "source": [
    "## Ejercicio uno"
   ]
  },
  {
   "cell_type": "code",
   "execution_count": 12,
   "metadata": {},
   "outputs": [
    {
     "name": "stdout",
     "output_type": "stream",
     "text": [
      "La distancia son: 628949330 km\n",
      "La distancia son: 390577533.93 millas\n"
     ]
    }
   ],
   "source": [
    "Tierra = 149597870\n",
    "Júpiter = 778547200\n",
    "\n",
    "distancia = abs(Tierra-Júpiter)\n",
    "print(\"La distancia son: \", distancia \" km\")\n",
    "distancia_millas = distancia * 0.621\n",
    "print(\"La distancia son: \", distancia_millas,\" millas\")"
   ]
  },
  {
   "cell_type": "markdown",
   "metadata": {},
   "source": [
    "## Ejercicio dos"
   ]
  },
  {
   "cell_type": "code",
   "execution_count": 15,
   "metadata": {},
   "outputs": [
    {
     "name": "stdout",
     "output_type": "stream",
     "text": [
      "La distancia son:  0  km\n",
      "La distancia son: 0.0 millas\n"
     ]
    }
   ],
   "source": [
    "planeta1 = int(input(\"ingresa distancia al sol del planeta 1 en km\"))\n",
    "planeta2 = int(input(\"ingersa distancia al sol del planeta 2 en km\"))\n",
    "\n",
    "distancia = abs(planeta1 - planeta2)\n",
    "print(\"La distancia son: \" , distancia, \" km\")\n",
    "distancia_millas = distancia * 0.621\n",
    "print(\"La distancia son: \", distancia_millas,\" millas\")"
   ]
  }
 ],
 "metadata": {
  "interpreter": {
   "hash": "56bae1750278024b17ff5c0f6f77c2c2d12787032773d835a593404db3a69ec0"
  },
  "kernelspec": {
   "display_name": "Python 3.10.2 64-bit",
   "language": "python",
   "name": "python3"
  },
  "language_info": {
   "codemirror_mode": {
    "name": "ipython",
    "version": 3
   },
   "file_extension": ".py",
   "mimetype": "text/x-python",
   "name": "python",
   "nbconvert_exporter": "python",
   "pygments_lexer": "ipython3",
   "version": "3.10.2"
  },
  "orig_nbformat": 4
 },
 "nbformat": 4,
 "nbformat_minor": 2
}
