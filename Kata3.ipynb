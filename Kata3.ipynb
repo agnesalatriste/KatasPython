{
 "cells": [
  {
   "cell_type": "markdown",
   "metadata": {},
   "source": [
    "# Kata 3"
   ]
  },
  {
   "cell_type": "markdown",
   "metadata": {},
   "source": [
    "## Ejercicio uno"
   ]
  },
  {
   "cell_type": "code",
   "execution_count": 1,
   "metadata": {},
   "outputs": [
    {
     "name": "stdout",
     "output_type": "stream",
     "text": [
      "¡Cuidado! un asteroide se acerca demasiado rápido a la tierra\n"
     ]
    }
   ],
   "source": [
    "velocidad = 49\n",
    "velocidadmax = 25\n",
    "if velocidad > velocidadmax:\n",
    "    print(\"¡Cuidado! un asteroide se acerca demasiado rápido a la tierra\")\n",
    "else:\n",
    "    print(\"Todo correcto, todo perfecto\")\n"
   ]
  },
  {
   "cell_type": "markdown",
   "metadata": {},
   "source": [
    "## Ejercicio dos"
   ]
  },
  {
   "cell_type": "code",
   "execution_count": 2,
   "metadata": {},
   "outputs": [
    {
     "name": "stdout",
     "output_type": "stream",
     "text": [
      "No hay asteroides ceranos a la tierra en este momento\n"
     ]
    }
   ],
   "source": [
    "velocidad = 19\n",
    "velocidadmin = 20\n",
    "if velocidad > velocidadmin:\n",
    "    print(\"Busca una luz en el cielo ¡Es un asteroide!\")\n",
    "elif velocidad == velocidadmin:\n",
    "    print(\"Si encuentras una luz en el cielo ¡Es un asteroide!\")\n",
    "else:\n",
    "    print(\"No hay asteroides cercanos a la tierra en este momento\")"
   ]
  },
  {
   "cell_type": "markdown",
   "metadata": {},
   "source": [
    "## Ejercicio tres"
   ]
  },
  {
   "cell_type": "code",
   "execution_count": 39,
   "metadata": {},
   "outputs": [
    {
     "name": "stdout",
     "output_type": "stream",
     "text": [
      "¡Cuidado! un asteroide altamente peligroso se acerca a la tierra con una velocidad de: 74km/s, y un tamaño de: 765m\n"
     ]
    }
   ],
   "source": [
    "import random\n",
    "\n",
    "tamanoMin = 25\n",
    "tamanoMax = 1000\n",
    "tamanoReal = random.randrange(5, 1000)\n",
    "velocidadP = 25\n",
    "velocidadL = 20 \n",
    "velocidadReal = random.randrange(5, 100)\n",
    "\n",
    "if tamanoMin < tamanoReal  and tamanoReal < tamanoMax:\n",
    "    if velocidadP < velocidadReal:\n",
    "       print(\"¡Cuidado! un asteroide altamente peligroso se acerca a la tierra con una velocidad de: \" + str(velocidadReal) + \"km/s, y un tamaño de: \" + str(tamanoReal) + \"m\")\n",
    "    elif velocidadL <= velocidadReal and velocidadReal < velocidadP:\n",
    "        print(\"Un asteroide muy grande esta pasando, ¡Mide: \" + (tamanoReal) + \"m!. Tranquix, no es peligroso pero podras ver una luz en el cielo. <3\")\n",
    "    else:\n",
    "        print(\"Nada interesante que ver hoy en el cielo :)\")\n",
    "else:\n",
    "    if velocidadP < velocidadReal:\n",
    "        print(\"Un asteroide se acerca rápido a la tierra a una velocidad de: \" + str(velocidadReal) + \"km/s. Puedes ver una luz en el cielo\")\n",
    "    elif velocidadL < velocidadReal and velocidadReal < velocidadP:\n",
    "        print(\"¡Un asteroide se puede ver desde la tierra!, busca un rayo de luz en el cielo\")\n",
    "    else:\n",
    "        print(\"Nada interesante que ver hoy en el cielo :)\")"
   ]
  }
 ],
 "metadata": {
  "interpreter": {
   "hash": "56bae1750278024b17ff5c0f6f77c2c2d12787032773d835a593404db3a69ec0"
  },
  "kernelspec": {
   "display_name": "Python 3.10.2 64-bit",
   "language": "python",
   "name": "python3"
  },
  "language_info": {
   "codemirror_mode": {
    "name": "ipython",
    "version": 3
   },
   "file_extension": ".py",
   "mimetype": "text/x-python",
   "name": "python",
   "nbconvert_exporter": "python",
   "pygments_lexer": "ipython3",
   "version": "3.10.2"
  },
  "orig_nbformat": 4
 },
 "nbformat": 4,
 "nbformat_minor": 2
}
